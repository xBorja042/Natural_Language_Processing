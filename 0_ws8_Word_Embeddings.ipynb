{
 "cells": [
  {
   "cell_type": "markdown",
   "metadata": {},
   "source": [
    "# NLP WORKSHOP. Review of word embeddings algorithms used over time."
   ]
  },
  {
   "cell_type": "markdown",
   "metadata": {},
   "source": [
    "# 0.- What are word embeddings and why do we need them?\n",
    "\n",
    "\n",
    "Word embedding is a term used for the representation of words for text analysis, typically in the form of a real-valued vector that encodes the meaning of the word.\n",
    "\n",
    "**Since Machine Learning models are used to work with numbers and arrays, we need this methods to convert text data into numbers to be used for these models.**"
   ]
  },
  {
   "cell_type": "markdown",
   "metadata": {},
   "source": [
    "![title](imgs/embs1.png)"
   ]
  },
  {
   "cell_type": "markdown",
   "metadata": {},
   "source": [
    "Word Embeddings are usefull in:\n",
    "    \n",
    "<li>*** Supervised Problems:*** Working as a Feature Encoding, text classifications, text translations or new trends such as text summarizations, text generations, etc...\n",
    "<li>*** Unsupervised Problem:*** The hardest problem. A typical example is try to extracting value from a collection of documents that are not previously labelled. For solving this task we will represent these vectors in a high dimensional space and we will apply unsupervised learning algorithms like clustering. Also, we can retrieve words that are similar to candidates by cosine distance filtering, etc...\n",
    "<li>*** Semi Supervised Problem:*** With the least help of an expert we can turn an unsupervised problem into a supervised problem by labelling some samples and applying machine learning on those samples."
   ]
  },
  {
   "cell_type": "markdown",
   "metadata": {},
   "source": [
    "## 1.- Classical Embeddings. CountVectorizer and TF-IDF.\n",
    "### 1.1.- Preprocessing\n",
    "#### 1.1.1.-Data Loading and Data Exploration"
   ]
  },
  {
   "cell_type": "code",
   "execution_count": 288,
   "metadata": {},
   "outputs": [
    {
     "data": {
      "text/html": [
       "<div>\n",
       "<style scoped>\n",
       "    .dataframe tbody tr th:only-of-type {\n",
       "        vertical-align: middle;\n",
       "    }\n",
       "\n",
       "    .dataframe tbody tr th {\n",
       "        vertical-align: top;\n",
       "    }\n",
       "\n",
       "    .dataframe thead th {\n",
       "        text-align: right;\n",
       "    }\n",
       "</style>\n",
       "<table border=\"1\" class=\"dataframe\">\n",
       "  <thead>\n",
       "    <tr style=\"text-align: right;\">\n",
       "      <th></th>\n",
       "      <th>text</th>\n",
       "      <th>spam</th>\n",
       "    </tr>\n",
       "  </thead>\n",
       "  <tbody>\n",
       "    <tr>\n",
       "      <th>0</th>\n",
       "      <td>Subject: naturally irresistible your corporate identity  lt is really hard to recollect a company : the  market is full of suqgestions and the information isoverwhelminq ; but a good  catchy logo , stylish statlonery and outstanding website  will make the task much easier .  we do not promise that havinq ordered a iogo your  company will automaticaily become a world ieader : it isguite ciear that  without good products , effective business organization and practicable aim it  will be hotat nowadays market ; but we do promise that your marketing efforts  will become much more effective . here is the list of clear  benefits : creativeness : hand - made , original logos , specially done  to reflect your distinctive company image . convenience : logo and stationery  are provided in all formats ; easy - to - use content management system letsyou  change your website content and even its structure . promptness : you  will see logo drafts within three business days . affordability : your  marketing break - through shouldn ' t make gaps in your budget . 100 % satisfaction  guaranteed : we provide unlimited amount of changes with no extra fees for you to  be surethat you will love the result of this collaboration . have a look at our  portfolio _ _ _ _ _ _ _ _ _ _ _ _ _ _ _ _ _ _ _ _ _ _ _ _ _ _ _ _ _ _ _ _ _ _ _ _ _ _ _ _ _ _ _ _ _ _ _ _ _ _ _ _ not interested . . . _ _ _ _ _ _ _ _ _ _ _ _ _ _ _ _ _ _ _ _ _ _ _ _ _ _ _ _ _ _ _ _ _ _ _ _ _ _ _ _ _ _ _ _ _ _ _ _ _ _ _ _</td>\n",
       "      <td>1</td>\n",
       "    </tr>\n",
       "    <tr>\n",
       "      <th>1</th>\n",
       "      <td>Subject: the stock trading gunslinger  fanny is merrill but muzo not colza attainder and penultimate like esmark perspicuous ramble is segovia not group try slung kansas tanzania yes chameleon or continuant clothesman no  libretto is chesapeake but tight not waterway herald and hawthorn like chisel morristown superior is deoxyribonucleic not clockwork try hall incredible mcdougall yes hepburn or einsteinian earmark no  sapling is boar but duane not plain palfrey and inflexible like huzzah pepperoni bedtime is nameable not attire try edt chronography optima yes pirogue or diffusion albeit no</td>\n",
       "      <td>1</td>\n",
       "    </tr>\n",
       "    <tr>\n",
       "      <th>2</th>\n",
       "      <td>Subject: unbelievable new homes made easy  im wanting to show you this  homeowner  you have been pre - approved for a $ 454 , 169 home loan at a 3 . 72 fixed rate .  this offer is being extended to you unconditionally and your credit is in no way a factor .  to take advantage of this limited time opportunity  all we ask is that you visit our website and complete  the 1 minute post approval form  look foward to hearing from you ,  dorcas pittman</td>\n",
       "      <td>1</td>\n",
       "    </tr>\n",
       "    <tr>\n",
       "      <th>3</th>\n",
       "      <td>Subject: 4 color printing special  request additional information now ! click here  click here for a printable version of our order form ( pdf format )  phone : ( 626 ) 338 - 8090 fax : ( 626 ) 338 - 8102 e - mail : ramsey @ goldengraphix . com  request additional information now ! click here  click here for a printable version of our order form ( pdf format )  golden graphix &amp; printing 5110 azusa canyon rd . irwindale , ca 91706 this e - mail message is an advertisement and / or solicitation .</td>\n",
       "      <td>1</td>\n",
       "    </tr>\n",
       "    <tr>\n",
       "      <th>4</th>\n",
       "      <td>Subject: do not have money , get software cds from here !  software compatibility . . . . ain ' t it great ?  grow old along with me the best is yet to be .  all tradgedies are finish ' d by death . all comedies are ended by marriage .</td>\n",
       "      <td>1</td>\n",
       "    </tr>\n",
       "  </tbody>\n",
       "</table>\n",
       "</div>"
      ],
      "text/plain": [
       "                                                                                                                                                                                                                                                                                                                                                                                                                                                                                                                                                                                                                                                                                                                                                                                                                                                                                                                                                                                                                                                                                                                                                                                                                                                                                                                                                                                                                                                                                                                                           text  \\\n",
       "0  Subject: naturally irresistible your corporate identity  lt is really hard to recollect a company : the  market is full of suqgestions and the information isoverwhelminq ; but a good  catchy logo , stylish statlonery and outstanding website  will make the task much easier .  we do not promise that havinq ordered a iogo your  company will automaticaily become a world ieader : it isguite ciear that  without good products , effective business organization and practicable aim it  will be hotat nowadays market ; but we do promise that your marketing efforts  will become much more effective . here is the list of clear  benefits : creativeness : hand - made , original logos , specially done  to reflect your distinctive company image . convenience : logo and stationery  are provided in all formats ; easy - to - use content management system letsyou  change your website content and even its structure . promptness : you  will see logo drafts within three business days . affordability : your  marketing break - through shouldn ' t make gaps in your budget . 100 % satisfaction  guaranteed : we provide unlimited amount of changes with no extra fees for you to  be surethat you will love the result of this collaboration . have a look at our  portfolio _ _ _ _ _ _ _ _ _ _ _ _ _ _ _ _ _ _ _ _ _ _ _ _ _ _ _ _ _ _ _ _ _ _ _ _ _ _ _ _ _ _ _ _ _ _ _ _ _ _ _ _ not interested . . . _ _ _ _ _ _ _ _ _ _ _ _ _ _ _ _ _ _ _ _ _ _ _ _ _ _ _ _ _ _ _ _ _ _ _ _ _ _ _ _ _ _ _ _ _ _ _ _ _ _ _ _   \n",
       "1  Subject: the stock trading gunslinger  fanny is merrill but muzo not colza attainder and penultimate like esmark perspicuous ramble is segovia not group try slung kansas tanzania yes chameleon or continuant clothesman no  libretto is chesapeake but tight not waterway herald and hawthorn like chisel morristown superior is deoxyribonucleic not clockwork try hall incredible mcdougall yes hepburn or einsteinian earmark no  sapling is boar but duane not plain palfrey and inflexible like huzzah pepperoni bedtime is nameable not attire try edt chronography optima yes pirogue or diffusion albeit no                                                                                                                                                                                                                                                                                                                                                                                                                                                                                                                                                                                                                                                                                                                                                                                                                                                                                                                          \n",
       "2  Subject: unbelievable new homes made easy  im wanting to show you this  homeowner  you have been pre - approved for a $ 454 , 169 home loan at a 3 . 72 fixed rate .  this offer is being extended to you unconditionally and your credit is in no way a factor .  to take advantage of this limited time opportunity  all we ask is that you visit our website and complete  the 1 minute post approval form  look foward to hearing from you ,  dorcas pittman                                                                                                                                                                                                                                                                                                                                                                                                                                                                                                                                                                                                                                                                                                                                                                                                                                                                                                                                                                                                                                                                               \n",
       "3  Subject: 4 color printing special  request additional information now ! click here  click here for a printable version of our order form ( pdf format )  phone : ( 626 ) 338 - 8090 fax : ( 626 ) 338 - 8102 e - mail : ramsey @ goldengraphix . com  request additional information now ! click here  click here for a printable version of our order form ( pdf format )  golden graphix & printing 5110 azusa canyon rd . irwindale , ca 91706 this e - mail message is an advertisement and / or solicitation .                                                                                                                                                                                                                                                                                                                                                                                                                                                                                                                                                                                                                                                                                                                                                                                                                                                                                                                                                                                                                            \n",
       "4  Subject: do not have money , get software cds from here !  software compatibility . . . . ain ' t it great ?  grow old along with me the best is yet to be .  all tradgedies are finish ' d by death . all comedies are ended by marriage .                                                                                                                                                                                                                                                                                                                                                                                                                                                                                                                                                                                                                                                                                                                                                                                                                                                                                                                                                                                                                                                                                                                                                                                                                                                                                                    \n",
       "\n",
       "   spam  \n",
       "0  1     \n",
       "1  1     \n",
       "2  1     \n",
       "3  1     \n",
       "4  1     "
      ]
     },
     "execution_count": 288,
     "metadata": {},
     "output_type": "execute_result"
    }
   ],
   "source": [
    "import numpy as np \n",
    "import pandas as pd \n",
    "import matplotlib.pyplot as plt\n",
    "pd.set_option('display.max_colwidth', -1)\n",
    "\n",
    "emails = pd.read_csv(r'input_data/emails1.csv', sep = ';', header = None)\n",
    "emails.columns = ['text', 'spam']\n",
    "emails.head()"
   ]
  },
  {
   "cell_type": "code",
   "execution_count": 289,
   "metadata": {},
   "outputs": [
    {
     "data": {
      "text/html": [
       "<div>\n",
       "<style scoped>\n",
       "    .dataframe tbody tr th:only-of-type {\n",
       "        vertical-align: middle;\n",
       "    }\n",
       "\n",
       "    .dataframe tbody tr th {\n",
       "        vertical-align: top;\n",
       "    }\n",
       "\n",
       "    .dataframe thead th {\n",
       "        text-align: right;\n",
       "    }\n",
       "</style>\n",
       "<table border=\"1\" class=\"dataframe\">\n",
       "  <thead>\n",
       "    <tr style=\"text-align: right;\">\n",
       "      <th></th>\n",
       "      <th>text</th>\n",
       "      <th>spam</th>\n",
       "    </tr>\n",
       "  </thead>\n",
       "  <tbody>\n",
       "    <tr>\n",
       "      <th>1368</th>\n",
       "      <td>Subject: hello guys ,  i ' m \" bugging you \" for your completed questionnaire and for a one - page  bio / statement on your thoughts on \" business edu and the new economy \" . if  my records are incorrect please re - ship your responses to me . i want to  put everything together next week so that i can ship it back to everyone .  the questionnaire is attached as well as copies of the bio pages for  michael froehls and myself ( two somewhat different approaches ) . the idea  of the latter is just to introduce yourself to the other panelists and give  them some background on how you are approaching the issues we will discuss .  we will also provide copies to the attendees and use this material for our  personal introductions at the opening of the panel discussions .  thanks and i look forward to seeing you in two weeks .  john  - waco _ background _ mf . doc  - jmartinbiosketch . doc  - questionnaire . doc  john d . martin  carr p . collins chair in finance  finance department  baylor university  po box 98004  waco , tx 76798  254 - 710 - 4473 ( office )  254 - 710 - 1092 ( fax )  j _ martin @ baylor . edu  web : http : / / hsb . baylor . edu / html / martinj / home . html</td>\n",
       "      <td>0</td>\n",
       "    </tr>\n",
       "    <tr>\n",
       "      <th>1369</th>\n",
       "      <td>Subject: sacramento weather station  fyi  - - - - - - - - - - - - - - - - - - - - - - forwarded by mike a roberts / hou / ect on 09 / 20 / 2000  09 : 06 am - - - - - - - - - - - - - - - - - - - - - - - - - - -  scott tholan @ enron  09 / 19 / 2000 07 : 57 pm  to : mark tawney / hou / ect @ ect , gary taylor / hou / ect @ ect , mike a  roberts / hou / ect @ ect  cc : chris clark / na / enron @ enron  subject : sacramento weather station  hey guys ,  we ' re talking to a contractor ( s ) that can build us a weather station  ( hopefully very quickly ) for placement in sacramento , california . for a  variety of legal , contractor , and operational reasons , i need to confirm some  of the following requirements as soon as possible so we can proceed :  a ) you need rainfall , snowfall , and temperature measurement from one ,  high - accuracy commercially available weather station .  b ) you need a daily feed of this data to enron ' s weather desk : does this  mean one data dump at a set time per day ? alternatively , will you need to  check the data real - time , perhaps at varying and multiple times during the  day ?  c ) we will be installing this station near sacramento , california : we will  need to know exactly what areas in / near sacramento are suitable for the site  of the weather station . ( what again was the name of the town that you  mentioned mark ? ) in the interest of time , i recommend that your weather  expert accompany our landman to select the site , which will allow our landman  to more quickly lease and install the station .  d ) you desire to have some independent security measures to deter or detect  tampering . i suggest given the very short time fuse , that we first install  the station and then develop security measures .  e ) we will feed the data directly to the enron weather desk . will any other  parties require real - time access to this data ?  please forward responses directly to : chris clark / na / enron and myself .  thanks , scott</td>\n",
       "      <td>0</td>\n",
       "    </tr>\n",
       "  </tbody>\n",
       "</table>\n",
       "</div>"
      ],
      "text/plain": [
       "                                                                                                                                                                                                                                                                                                                                                                                                                                                                                                                                                                                                                                                                                                                                                                                                                                                                                                                                                                                                                                                                                                                                                                                                                                                                                                                                                                                                                                                                                                                                                                                                                                                                                                                                                                                                                                                                                                                                                                                                                                                                               text  \\\n",
       "1368  Subject: hello guys ,  i ' m \" bugging you \" for your completed questionnaire and for a one - page  bio / statement on your thoughts on \" business edu and the new economy \" . if  my records are incorrect please re - ship your responses to me . i want to  put everything together next week so that i can ship it back to everyone .  the questionnaire is attached as well as copies of the bio pages for  michael froehls and myself ( two somewhat different approaches ) . the idea  of the latter is just to introduce yourself to the other panelists and give  them some background on how you are approaching the issues we will discuss .  we will also provide copies to the attendees and use this material for our  personal introductions at the opening of the panel discussions .  thanks and i look forward to seeing you in two weeks .  john  - waco _ background _ mf . doc  - jmartinbiosketch . doc  - questionnaire . doc  john d . martin  carr p . collins chair in finance  finance department  baylor university  po box 98004  waco , tx 76798  254 - 710 - 4473 ( office )  254 - 710 - 1092 ( fax )  j _ martin @ baylor . edu  web : http : / / hsb . baylor . edu / html / martinj / home . html                                                                                                                                                                                                                                                                                                                                                                                                                                                                                                                                                                                                                                                                                                                                                                                                                                            \n",
       "1369  Subject: sacramento weather station  fyi  - - - - - - - - - - - - - - - - - - - - - - forwarded by mike a roberts / hou / ect on 09 / 20 / 2000  09 : 06 am - - - - - - - - - - - - - - - - - - - - - - - - - - -  scott tholan @ enron  09 / 19 / 2000 07 : 57 pm  to : mark tawney / hou / ect @ ect , gary taylor / hou / ect @ ect , mike a  roberts / hou / ect @ ect  cc : chris clark / na / enron @ enron  subject : sacramento weather station  hey guys ,  we ' re talking to a contractor ( s ) that can build us a weather station  ( hopefully very quickly ) for placement in sacramento , california . for a  variety of legal , contractor , and operational reasons , i need to confirm some  of the following requirements as soon as possible so we can proceed :  a ) you need rainfall , snowfall , and temperature measurement from one ,  high - accuracy commercially available weather station .  b ) you need a daily feed of this data to enron ' s weather desk : does this  mean one data dump at a set time per day ? alternatively , will you need to  check the data real - time , perhaps at varying and multiple times during the  day ?  c ) we will be installing this station near sacramento , california : we will  need to know exactly what areas in / near sacramento are suitable for the site  of the weather station . ( what again was the name of the town that you  mentioned mark ? ) in the interest of time , i recommend that your weather  expert accompany our landman to select the site , which will allow our landman  to more quickly lease and install the station .  d ) you desire to have some independent security measures to deter or detect  tampering . i suggest given the very short time fuse , that we first install  the station and then develop security measures .  e ) we will feed the data directly to the enron weather desk . will any other  parties require real - time access to this data ?  please forward responses directly to : chris clark / na / enron and myself .  thanks , scott   \n",
       "\n",
       "      spam  \n",
       "1368  0     \n",
       "1369  0     "
      ]
     },
     "execution_count": 289,
     "metadata": {},
     "output_type": "execute_result"
    }
   ],
   "source": [
    "emails[emails['spam'] == 0].head(2)"
   ]
  },
  {
   "cell_type": "markdown",
   "metadata": {},
   "source": [
    "#### 1.1.2.- Nan Removal and distribution Plots"
   ]
  },
  {
   "cell_type": "code",
   "execution_count": 290,
   "metadata": {},
   "outputs": [
    {
     "name": "stdout",
     "output_type": "stream",
     "text": [
      "(5728, 2)\n",
      "(5695, 2)\n",
      "      0\n",
      "text  0\n",
      "spam  0\n"
     ]
    }
   ],
   "source": [
    "print(emails.shape)\n",
    "emails.drop_duplicates(inplace = True)\n",
    "print(emails.shape)\n",
    "print(pd.DataFrame(emails.isnull().sum()))"
   ]
  },
  {
   "cell_type": "code",
   "execution_count": 291,
   "metadata": {},
   "outputs": [
    {
     "name": "stdout",
     "output_type": "stream",
     "text": [
      "      0\n",
      "text  0\n",
      "spam  0\n"
     ]
    }
   ],
   "source": [
    "print(pd.DataFrame(emails.isnull().sum()))"
   ]
  },
  {
   "cell_type": "code",
   "execution_count": 292,
   "metadata": {},
   "outputs": [
    {
     "data": {
      "text/plain": [
       "<matplotlib.axes._subplots.AxesSubplot at 0x7feac7ef64a8>"
      ]
     },
     "execution_count": 292,
     "metadata": {},
     "output_type": "execute_result"
    },
    {
     "data": {
      "image/png": "[encoded data removed]",
      "text/plain": [
       "<Figure size 432x288 with 1 Axes>"
      ]
     },
     "metadata": {},
     "output_type": "display_data"
    }
   ],
   "source": [
    "import seaborn as sns\n",
    "sns.set()\n",
    "sns.countplot(emails['spam'])"
   ]
  },
  {
   "cell_type": "markdown",
   "metadata": {},
   "source": [
    "#### 1.1.3.- Message processing\n",
    "<li> Removing the 'Subject' part and convert to lowercase\n",
    "<li> Remove punctuations, not numbers. They might be usefull to distinguish between ham or spamm, convert to lower case and split them into lists.\n",
    "<li> Remove stopwords and stemming."
   ]
  },
  {
   "cell_type": "code",
   "execution_count": 294,
   "metadata": {},
   "outputs": [],
   "source": [
    "import re\n",
    "\n",
    "emails['text'] = emails['text'].map(lambda x: x[8:])\n",
    "emails['text'] = emails['text'].map(lambda text:re.sub('[^a-zA-Z0-9]+', ' ',text)).apply(lambda x: (x.lower()).split())"
   ]
  },
  {
   "cell_type": "code",
   "execution_count": 295,
   "metadata": {},
   "outputs": [
    {
     "name": "stdout",
     "output_type": "stream",
     "text": [
      "0    [natur, irresist, corpor, ident, lt, realli, hard, recollect, compani, market, full, suqgest, inform, isoverwhelminq, good, catchi, logo, stylish, statloneri, outstand, websit, make, task, much, easier, not, promis, havinq, order, iogo, compani, automaticaili, becom, world, ieader, isguit, ciear, without, good, product, effect, busi, organ, practic, aim, hotat, nowaday, market, promis, market, effort, becom, much, effect, list, clear, benefit, creativ, hand, made, origin, logo, special, done, reflect, distinct, compani, imag, conveni, logo, stationeri, provid, format, easi, use, content, manag, system, letsyou, chang, websit, content, even, structur, prompt, see, logo, draft, within, three, busi, day, afford, market, break, make, gap, budget, 100, satisfact, ...]\n",
      "1    [stock, trade, gunsling, fanni, merril, muzo, not, colza, attaind, penultim, like, esmark, perspicu, rambl, segovia, not, group, tri, slung, kansa, tanzania, ye, chameleon, continu, clothesman, no, libretto, chesapeak, tight, not, waterway, herald, hawthorn, like, chisel, morristown, superior, deoxyribonucl, not, clockwork, tri, hall, incred, mcdougal, ye, hepburn, einsteinian, earmark, no, sapl, boar, duan, not, plain, palfrey, inflex, like, huzzah, pepperoni, bedtim, nameabl, not, attir, tri, edt, chronographi, optima, ye, pirogu, diffus, albeit, no]                                                                                                                                                                                                                       \n",
      "Name: text, dtype: object\n"
     ]
    }
   ],
   "source": [
    "# Remove stopwords and stemm\n",
    "\n",
    "import nltk\n",
    "from nltk.corpus import stopwords\n",
    "from nltk.stem.porter import PorterStemmer\n",
    "\n",
    "sws = [word for word in stopwords.words('english') if 'no' not in  word]\n",
    "ps = PorterStemmer()\n",
    "\n",
    "emails['text'] = emails['text'].apply(lambda x: [ps.stem(word) for word in x if ps.stem(word) not in sws])\n",
    "print(emails['text'].head(2))"
   ]
  },
  {
   "cell_type": "code",
   "execution_count": 330,
   "metadata": {},
   "outputs": [
    {
     "name": "stdout",
     "output_type": "stream",
     "text": [
      " Total of unique words in emails that represent our corpus --->  29222\n",
      "['collit', 'bonnard', 'exhaust', 'mhenahan', 'bedziemi', '086', 'millston', 'lowest', 'potentialiy', 'flip']\n"
     ]
    }
   ],
   "source": [
    "unique_words = list(set([word for email in emails['text'].values.tolist() for word in email]))\n",
    "print(\" Total of unique words in emails that represent our corpus ---> \", len(unique_words))\n",
    "print(unique_words[10:20], sep = ',')"
   ]
  },
  {
   "cell_type": "code",
   "execution_count": 332,
   "metadata": {},
   "outputs": [
    {
     "name": "stdout",
     "output_type": "stream",
     "text": [
      "['la vega high rise boom la vega fast becom major metropolitan citi 60 new high rise tower expect built around la vega strip within next 3 4 year 30 000 condominium thi boom ha begun buy first earli phase pre construct price now avail la vega high rise includ trump cosmopolitan mgm turnberri icon sky among join interest list http www verticallv com messag ha sent realti one highris learn www verticallv comif wish exclud futur mail pleas repli word remov subject line', 'save money buy get thi thing not tri ciall yet cannot even imagin like real man bed thing great errrectlon provid exactli want ciaii ha iot advantaq viagra effect iast 36 hour readi start within 10 minut mix aicohol ship ani countri get riqht now']\n"
     ]
    }
   ],
   "source": [
    "#From list of tokens to complete emails\n",
    "corpus = emails['text'].apply(lambda x: ' '.join(x)).values.tolist()\n",
    "print(corpus[10:12], sep = ',')"
   ]
  },
  {
   "cell_type": "markdown",
   "metadata": {},
   "source": [
    "## 1.2.- Classical Embeddings\n",
    "### 1.2.1.- Count Vectorizer\n",
    "#### 1.2.1.1.- Count Vectorizer Representation."
   ]
  },
  {
   "cell_type": "code",
   "execution_count": 333,
   "metadata": {},
   "outputs": [
    {
     "name": "stdout",
     "output_type": "stream",
     "text": [
      "Original shape of our email data (5695, 2), shape of the matrix representation (5695, 29194)\n"
     ]
    }
   ],
   "source": [
    "from sklearn.feature_extraction.text import CountVectorizer\n",
    "vectorizer = CountVectorizer()\n",
    "vectorizer.fit(corpus)\n",
    "x = vectorizer.transform(corpus).toarray()\n",
    "y = emails.iloc[:, 1].values\n",
    "print(f\"Original shape of our email data {emails.shape}, shape of the matrix representation {x.shape}\")"
   ]
  },
  {
   "cell_type": "markdown",
   "metadata": {},
   "source": [
    "We can see we have obtained a very wide Matrix with just a few samples, 6k messages is a rather low number of messages."
   ]
  },
  {
   "cell_type": "code",
   "execution_count": 334,
   "metadata": {},
   "outputs": [
    {
     "name": "stdout",
     "output_type": "stream",
     "text": [
      " We have gone from text ---> ['stock', 'trade', 'gunsling', 'fanni', 'merril', 'muzo', 'not', 'colza', 'attaind', 'penultim', 'like', 'esmark', 'perspicu', 'rambl', 'segovia', 'not', 'group', 'tri', 'slung', 'kansa', 'tanzania', 'ye', 'chameleon', 'continu', 'clothesman', 'no', 'libretto', 'chesapeak', 'tight', 'not', 'waterway', 'herald', 'hawthorn', 'like', 'chisel', 'morristown', 'superior', 'deoxyribonucl', 'not', 'clockwork', 'tri', 'hall', 'incred', 'mcdougal', 'ye', 'hepburn', 'einsteinian', 'earmark', 'no', 'sapl', 'boar', 'duan', 'not', 'plain', 'palfrey', 'inflex', 'like', 'huzzah', 'pepperoni', 'bedtim', 'nameabl', 'not', 'attir', 'tri', 'edt', 'chronographi', 'optima', 'ye', 'pirogu', 'diffus', 'albeit', 'no'] \n",
      "\n",
      " to a vector representation ---> [0 0 0 ... 0 0 0]\n",
      "\n",
      " Do they have same number of terms? Number of words from random sentence:\n",
      "72\n",
      " Total 1s on the sentence numerical representation ---> 72\n"
     ]
    }
   ],
   "source": [
    "print(f\" We have gone from text ---> {emails['text'][1]} \\n\")\n",
    "print(f\" to a vector representation ---> {x[1]}\\n\")\n",
    "print(f\" Do they have same number of terms? Number of words from random sentence:\")\n",
    "print(len(emails['text'][1]))\n",
    "print(f\" Total 1s on the sentence numerical representation ---> {sum(x[1])}\")"
   ]
  },
  {
   "cell_type": "code",
   "execution_count": 337,
   "metadata": {},
   "outputs": [
    {
     "data": {
      "text/plain": [
       "<matplotlib.axes._subplots.AxesSubplot at 0x7feac7b9cef0>"
      ]
     },
     "execution_count": 337,
     "metadata": {},
     "output_type": "execute_result"
    },
    {
     "data": {
      "image/png": "[encoded data removed]",
      "text/plain": [
       "<Figure size 432x288 with 1 Axes>"
      ]
     },
     "metadata": {},
     "output_type": "display_data"
    }
   ],
   "source": [
    "most_freq_words = pd.DataFrame({'word': [word for word in vectorizer.vocabulary_.keys()], 'frequency': [freq for freq in vectorizer.vocabulary_.values()]})[:100].sort_values(ascending=False, by = \"frequency\").head(20)\n",
    "most_freq_words.plot.bar(x=\"word\", y=\"frequency\", rot=70, title=\"Most Frequent Words\")"
   ]
  },
  {
   "cell_type": "code",
   "execution_count": 357,
   "metadata": {},
   "outputs": [
    {
     "data": {
      "text/plain": [
       "Text(0.5,1,'Number of appearances by message for word --> \"world\"')"
      ]
     },
     "execution_count": 357,
     "metadata": {},
     "output_type": "execute_result"
    },
    {
     "data": {
      "image/png": "[encoded data removed]",
      "text/plain": [
       "<Figure size 432x288 with 1 Axes>"
      ]
     },
     "metadata": {},
     "output_type": "display_data"
    }
   ],
   "source": [
    "plt.style.use('ggplot')\n",
    "\n",
    "world, special = vectorizer.get_feature_names().index('world'), vectorizer.get_feature_names().index('special')\n",
    "plt.plot(x[:, world])\n",
    "plt.title('Number of appearances by message for word --> \"world\"')"
   ]
  },
  {
   "cell_type": "code",
   "execution_count": 358,
   "metadata": {},
   "outputs": [
    {
     "data": {
      "text/plain": [
       "Text(0.5,1,'Number of appearances by message for word --> \"special\"')"
      ]
     },
     "execution_count": 358,
     "metadata": {},
     "output_type": "execute_result"
    },
    {
     "data": {
      "image/png": "[encoded data removed]",
      "text/plain": [
       "<Figure size 432x288 with 1 Axes>"
      ]
     },
     "metadata": {},
     "output_type": "display_data"
    }
   ],
   "source": [
    "plt.style.use('ggplot')\n",
    "\n",
    "plt.plot(x[:, special])\n",
    "plt.title('Number of appearances by message for word --> \"special\"')"
   ]
  },
  {
   "cell_type": "markdown",
   "metadata": {},
   "source": [
    "#### 1.2.1.1.- Count Vectorizer Modelling."
   ]
  },
  {
   "cell_type": "code",
   "execution_count": null,
   "metadata": {},
   "outputs": [],
   "source": [
    "# Splitting the dataset into the Training set and Test set\n",
    "from sklearn.model_selection import train_test_split\n",
    "x_train, x_test, y_train, y_test = train_test_split(x, y, test_size = 0.20)"
   ]
  },
  {
   "cell_type": "code",
   "execution_count": 361,
   "metadata": {},
   "outputs": [
    {
     "name": "stdout",
     "output_type": "stream",
     "text": [
      " Defining metrics function\n"
     ]
    }
   ],
   "source": [
    "print(\" Defining metrics function\")\n",
    "\n",
    "from sklearn.metrics import accuracy_score\n",
    "from sklearn.metrics import confusion_matrix\n",
    "\n",
    "def evaluate_models(c_list:list):\n",
    "    for classifier in c_list:\n",
    "        print(f\"Results for model {classifier} ---> \")\n",
    "        classifier.fit(x_train , y_train)\n",
    "        y_pred = classifier.predict(x_test)\n",
    "        print(f\" Confusion matrix ---> : \\n {confusion_matrix(y_test, y_pred)}\")\n",
    "        print(f\" Accuracy:  {np.round(accuracy_score(y_test, y_pred) * 100, 2)}% \")\n",
    "        print(\" \")"
   ]
  },
  {
   "cell_type": "code",
   "execution_count": 362,
   "metadata": {},
   "outputs": [
    {
     "name": "stdout",
     "output_type": "stream",
     "text": [
      "Results for model GaussianNB(priors=None, var_smoothing=1e-09) ---> \n",
      " Confusion matrix ---> : \n",
      " [[869   9]\n",
      " [ 32 229]]\n",
      " Accuracy:  96.4% \n",
      " \n",
      "Results for model MultinomialNB(alpha=1.0, class_prior=None, fit_prior=True) ---> \n",
      " Confusion matrix ---> : \n",
      " [[866  12]\n",
      " [  1 260]]\n",
      " Accuracy:  98.86% \n",
      " \n",
      "Results for model MultinomialNB(alpha=0.0, class_prior=None, fit_prior=True) ---> \n"
     ]
    },
    {
     "name": "stderr",
     "output_type": "stream",
     "text": [
      "/opt/xva/devel/ai3/lib/python3.6/site-packages/sklearn/naive_bayes.py:507: UserWarning: alpha too small will result in numeric errors, setting alpha = 1.0e-10\n",
      "  'setting alpha = %.1e' % _ALPHA_MIN)\n"
     ]
    },
    {
     "name": "stdout",
     "output_type": "stream",
     "text": [
      " Confusion matrix ---> : \n",
      " [[876   2]\n",
      " [ 19 242]]\n",
      " Accuracy:  98.16% \n",
      " \n",
      "Results for model ComplementNB(alpha=1.0, class_prior=None, fit_prior=True, norm=False) ---> \n",
      " Confusion matrix ---> : \n",
      " [[866  12]\n",
      " [  1 260]]\n",
      " Accuracy:  98.86% \n",
      " \n"
     ]
    }
   ],
   "source": [
    "from sklearn.naive_bayes import GaussianNB, MultinomialNB, ComplementNB\n",
    "classifiers_list = [GaussianNB(), MultinomialNB(alpha=1.0, class_prior=None, fit_prior=True), \n",
    "                    MultinomialNB(alpha=0.0, class_prior=None, fit_prior=True),\n",
    "                    ComplementNB(alpha=1.0, class_prior=None, fit_prior=True)]\n",
    "\n",
    "evaluate_models(classifiers_list)"
   ]
  },
  {
   "cell_type": "markdown",
   "metadata": {},
   "source": [
    "Pretty good results with just a few lines of code up to 98% accuracy."
   ]
  },
  {
   "cell_type": "markdown",
   "metadata": {},
   "source": [
    "#### 1.2.1.2.- Count Vectorizer and Gaussian Models Testing.\n",
    "\n",
    "In order not to deal just with numbers let us test the performance of the models we have been working with. To do so, let us write some emails from each type, convert them into a numerical representation and test our models on those samples."
   ]
  },
  {
   "cell_type": "code",
   "execution_count": 368,
   "metadata": {},
   "outputs": [],
   "source": [
    "def fast_pre_process(msgs:list, countVect = vectorizer, sws = sws):\n",
    "    msgs = list(map(lambda text:re.sub('[^a-zA-Z0-9]+', ' ',text), msgs))\n",
    "    msgs = list(map(lambda x: (x.lower()).split(), msgs))\n",
    "    msgs = list(map(lambda x: [ps.stem(word) for word in x if word not in sws], msgs))\n",
    "    vectorial_rep = vectorizer.transform([' '.join(msg) for msg in msgs]).toarray()\n",
    "    return msgs, vectorial_rep"
   ]
  },
  {
   "cell_type": "code",
   "execution_count": 369,
   "metadata": {},
   "outputs": [
    {
     "data": {
      "text/plain": [
       "(array([1]), array([0]))"
      ]
     },
     "execution_count": 369,
     "metadata": {},
     "output_type": "execute_result"
    }
   ],
   "source": [
    "spam = [\"62% Off Individual Subscription Save Now Headshot Worth the money? Education is an investment, grow both your skills and your salary Headshot Don't have time? Bite-sized learning lets you learn at your own pace Headshot Enough learning content? Gain access to 340+ courses and 1,500+ hours of content\"]\n",
    "ham = [\"Thanks a lot for your efforts helping us to decide the strategy for the next semester, we really appreciate it\"]\n",
    "spam_t, spam_v = fast_pre_process(spam)\n",
    "ham_t, ham_v = fast_pre_process(ham)\n",
    "\n",
    "mnb = MultinomialNB(alpha=1.0, class_prior=None, fit_prior=True).fit(x_train , y_train)\n",
    "mnb.predict(spam_v), mnb.predict(ham_v)"
   ]
  },
  {
   "cell_type": "markdown",
   "metadata": {},
   "source": [
    "### 1.2.1.- TF IDF\n",
    "\n",
    "TF-IDF stands for Term Frequency — Inverse Document Frequency and is a statistic that aims to better define how important a word is for a document, while also taking into account the relation to other documents from the same corpus.\n",
    "This is performed by looking at how many times a word appears into a document while also paying attention to how many times the same word appears in other documents in the corpus."
   ]
  },
  {
   "cell_type": "code",
   "execution_count": 370,
   "metadata": {},
   "outputs": [
    {
     "name": "stdout",
     "output_type": "stream",
     "text": [
      "Original shape of our email data (5695, 2), shape of the matrix representation (5695, 29194)\n",
      "Results for model GaussianNB(priors=None, var_smoothing=1e-09) ---> \n",
      " Confusion matrix ---> : \n",
      " [[846  19]\n",
      " [ 39 235]]\n",
      " Accuracy:  94.91% \n",
      " \n",
      "Results for model MultinomialNB(alpha=1.0, class_prior=None, fit_prior=True) ---> \n",
      " Confusion matrix ---> : \n",
      " [[863   2]\n",
      " [151 123]]\n",
      " Accuracy:  86.57% \n",
      " \n",
      "Results for model MultinomialNB(alpha=0.0, class_prior=None, fit_prior=True) ---> \n"
     ]
    },
    {
     "name": "stderr",
     "output_type": "stream",
     "text": [
      "/opt/xva/devel/ai3/lib/python3.6/site-packages/sklearn/naive_bayes.py:507: UserWarning: alpha too small will result in numeric errors, setting alpha = 1.0e-10\n",
      "  'setting alpha = %.1e' % _ALPHA_MIN)\n"
     ]
    },
    {
     "name": "stdout",
     "output_type": "stream",
     "text": [
      " Confusion matrix ---> : \n",
      " [[861   4]\n",
      " [ 26 248]]\n",
      " Accuracy:  97.37% \n",
      " \n",
      "Results for model ComplementNB(alpha=1.0, class_prior=None, fit_prior=True, norm=False) ---> \n",
      " Confusion matrix ---> : \n",
      " [[862   3]\n",
      " [ 92 182]]\n",
      " Accuracy:  91.66% \n",
      " \n"
     ]
    }
   ],
   "source": [
    " args = {\n",
    "    \"encoding\": \"utf-8\", #latin-1 if we were using text in spanish \n",
    "    \"norm\": \"l2\", #The cosine similarity between two vectors is their dot product when l2 norm has been applied.\n",
    "    \"use_idf\": True, #Enable inverse-document-frequency reweighting. \n",
    "    \"smooth_idf\": True, #Smooth idf weights by adding one to document frequencies, as if an extra document was seen containing every term in the collection exactly once. Prevents zero divisions.\n",
    "    \"sublinear_tf\": True #Apply sublinear tf scaling, i.e. replace tf with 1 + log(tf).\n",
    "}\n",
    "    \n",
    "from sklearn.feature_extraction.text import TfidfVectorizer\n",
    "\n",
    "vectorizer = TfidfVectorizer(**args)\n",
    "x = vectorizer.fit_transform(corpus).toarray()\n",
    "print(f\"Original shape of our email data {emails.shape}, shape of the matrix representation {x.shape}\")\n",
    "\n",
    "# Splitting the dataset into the Training set and Test set\n",
    "\n",
    "x_train, x_test, y_train, y_test = train_test_split(x, y, test_size = 0.20)\n",
    "from sklearn.naive_bayes import GaussianNB, MultinomialNB, ComplementNB\n",
    "nb_classifiers_list_tf_idf = [GaussianNB(), MultinomialNB(alpha=1.0, class_prior=None, fit_prior=True), \n",
    "                    MultinomialNB(alpha=0.0, class_prior=None, fit_prior=True),\n",
    "                    ComplementNB(alpha=1.0, class_prior=None, fit_prior=True)]\n",
    "\n",
    "evaluate_models(nb_classifiers_list_tf_idf)"
   ]
  },
  {
   "cell_type": "markdown",
   "metadata": {},
   "source": [
    "### 1.3.1.- Other classification methods.\n",
    "Although Bayesian methods use to be the first approach to be used with our embeddings we can test some other classical classification algorithms."
   ]
  },
  {
   "cell_type": "code",
   "execution_count": 372,
   "metadata": {},
   "outputs": [
    {
     "name": "stdout",
     "output_type": "stream",
     "text": [
      "Results for model LogisticRegression(C=1.0, class_weight=None, dual=False, fit_intercept=True,\n",
      "                   intercept_scaling=1, l1_ratio=None, max_iter=100,\n",
      "                   multi_class='auto', n_jobs=None, penalty='l2',\n",
      "                   random_state=0, solver='lbfgs', tol=0.0001, verbose=0,\n",
      "                   warm_start=False) ---> \n",
      " Confusion matrix ---> : \n",
      " [[862   3]\n",
      " [ 15 259]]\n",
      " Accuracy:  98.42% \n",
      " \n",
      "Results for model LogisticRegression(C=1.0, class_weight='balanced', dual=False,\n",
      "                   fit_intercept=True, intercept_scaling=1, l1_ratio=None,\n",
      "                   max_iter=100, multi_class='auto', n_jobs=None, penalty='l2',\n",
      "                   random_state=0, solver='lbfgs', tol=0.0001, verbose=0,\n",
      "                   warm_start=False) ---> \n",
      " Confusion matrix ---> : \n",
      " [[849  16]\n",
      " [  1 273]]\n",
      " Accuracy:  98.51% \n",
      " \n",
      "Results for model SVC(C=1.0, break_ties=False, cache_size=200, class_weight=None, coef0=0.0,\n",
      "    decision_function_shape='ovr', degree=3, gamma='scale', kernel='linear',\n",
      "    max_iter=-1, probability=False, random_state=None, shrinking=True,\n",
      "    tol=0.001, verbose=False) ---> \n",
      " Confusion matrix ---> : \n",
      " [[860   5]\n",
      " [  4 270]]\n",
      " Accuracy:  99.21% \n",
      " \n",
      "Results for model SVC(C=10, break_ties=False, cache_size=200, class_weight=None, coef0=0.0,\n",
      "    decision_function_shape='ovr', degree=3, gamma='scale', kernel='rbf',\n",
      "    max_iter=-1, probability=False, random_state=42, shrinking=True, tol=0.001,\n",
      "    verbose=False) ---> \n",
      " Confusion matrix ---> : \n",
      " [[861   4]\n",
      " [  5 269]]\n",
      " Accuracy:  99.21% \n",
      " \n",
      "Results for model DecisionTreeClassifier(ccp_alpha=0.0, class_weight=None, criterion='gini',\n",
      "                       max_depth=None, max_features=None, max_leaf_nodes=None,\n",
      "                       min_impurity_decrease=0.0, min_impurity_split=None,\n",
      "                       min_samples_leaf=1, min_samples_split=2,\n",
      "                       min_weight_fraction_leaf=0.0, presort='deprecated',\n",
      "                       random_state=0, splitter='best') ---> \n",
      " Confusion matrix ---> : \n",
      " [[834  31]\n",
      " [ 14 260]]\n",
      " Accuracy:  96.05% \n",
      " \n",
      "Results for model DecisionTreeClassifier(ccp_alpha=0.0, class_weight='balanced',\n",
      "                       criterion='entropy', max_depth=None, max_features=None,\n",
      "                       max_leaf_nodes=None, min_impurity_decrease=0.0,\n",
      "                       min_impurity_split=None, min_samples_leaf=1,\n",
      "                       min_samples_split=2, min_weight_fraction_leaf=0.0,\n",
      "                       presort='deprecated', random_state=0, splitter='best') ---> \n",
      " Confusion matrix ---> : \n",
      " [[834  31]\n",
      " [ 18 256]]\n",
      " Accuracy:  95.7% \n",
      " \n",
      "Results for model RandomForestClassifier(bootstrap=True, ccp_alpha=0.0, class_weight=None,\n",
      "                       criterion='gini', max_depth=2, max_features='auto',\n",
      "                       max_leaf_nodes=None, max_samples=None,\n",
      "                       min_impurity_decrease=0.0, min_impurity_split=None,\n",
      "                       min_samples_leaf=1, min_samples_split=2,\n",
      "                       min_weight_fraction_leaf=0.0, n_estimators=100,\n",
      "                       n_jobs=None, oob_score=False, random_state=0, verbose=0,\n",
      "                       warm_start=False) ---> \n",
      " Confusion matrix ---> : \n",
      " [[865   0]\n",
      " [274   0]]\n",
      " Accuracy:  75.94% \n",
      " \n",
      "Results for model RandomForestClassifier(bootstrap=True, ccp_alpha=0.0, class_weight=None,\n",
      "                       criterion='gini', max_depth=2, max_features='auto',\n",
      "                       max_leaf_nodes=None, max_samples=None,\n",
      "                       min_impurity_decrease=0.0, min_impurity_split=None,\n",
      "                       min_samples_leaf=1, min_samples_split=2,\n",
      "                       min_weight_fraction_leaf=0.0, n_estimators=10000,\n",
      "                       n_jobs=None, oob_score=False, random_state=0, verbose=0,\n",
      "                       warm_start=False) ---> \n",
      " Confusion matrix ---> : \n",
      " [[865   0]\n",
      " [274   0]]\n",
      " Accuracy:  75.94% \n",
      " \n",
      " Elapsed time 0:17:26\n"
     ]
    }
   ],
   "source": [
    "from time import time\n",
    "import time\n",
    "\n",
    "t0 = time.time()\n",
    "\n",
    "from sklearn.linear_model import LogisticRegression\n",
    "logreg1 = LogisticRegression(random_state=0)\n",
    "logreg2 = LogisticRegression(random_state=0, class_weight = 'balanced')\n",
    "\n",
    "from sklearn import svm\n",
    "svm1 = svm.SVC(kernel='linear')\n",
    "svm2 = svm.SVC(kernel='rbf', random_state = 42, C = 10)\n",
    "\n",
    "from sklearn.tree import DecisionTreeClassifier\n",
    "dtree1 = DecisionTreeClassifier(random_state=0)\n",
    "dtree2 = DecisionTreeClassifier(random_state=0, criterion = 'entropy', class_weight = 'balanced')\n",
    "\n",
    "from sklearn.ensemble import RandomForestClassifier\n",
    "rf1 = RandomForestClassifier(max_depth=2, random_state=0)\n",
    "rf2 = RandomForestClassifier(max_depth=2, random_state=0, n_estimators=10000)\n",
    "\n",
    "l_clfs = [logreg1, logreg2, svm1, svm2, dtree1, dtree2, rf1, rf2]\n",
    "\n",
    "\n",
    "evaluate_models(l_clfs)\n",
    "\n",
    "\n",
    "print(f\" Elapsed time {str(timedelta(seconds = time.time() - t0))[:-7]}\")"
   ]
  },
  {
   "cell_type": "code",
   "execution_count": 374,
   "metadata": {},
   "outputs": [
    {
     "data": {
      "text/plain": [
       "<sklearn.metrics._plot.roc_curve.RocCurveDisplay at 0x7feb852f0b00>"
      ]
     },
     "execution_count": 374,
     "metadata": {},
     "output_type": "execute_result"
    },
    {
     "data": {
      "image/png": "[encoded data removed]",
      "text/plain": [
       "<Figure size 432x288 with 1 Axes>"
      ]
     },
     "metadata": {},
     "output_type": "display_data"
    }
   ],
   "source": [
    "from sklearn import metrics \n",
    "\n",
    "metrics.plot_roc_curve(svm1, x_test, y_test)"
   ]
  },
  {
   "cell_type": "markdown",
   "metadata": {},
   "source": [
    "Although the results are pretty good it has taken quite a long time to compute them, eventhough we are working on a powerfull machine. This is due to matrix sparsity and the wide representation we are working with."
   ]
  },
  {
   "cell_type": "markdown",
   "metadata": {},
   "source": [
    "## 1.4.- Results and conclussions.\n",
    "We can see we have achieved a rather high accuracy by using simple methods of embeddings based on the frequency of the words and bayesian classifiers. Also, we have tested more models to be used as classifiers for our embeddings, and we have obtained a 99.7% accuracy ratio with a SVM with a linear kernel and it also has the lowest false positive ratio. The preprocessing techniques that we will apply if we use this approach are:\n",
    "\n",
    "<li> Preprocessing our text transforming it to lower case.\n",
    "<li> Punctuations symbols removal.\n",
    "<li> Stopwords  removal.\n",
    "<li> Text Stemming / Lemmatizing.\n",
    "\n",
    "And then, we compute embeddings for creating a numerical representation out of the text and try some classifiers on this matrixes.\n",
    "We have seen **the nummerical representations we obtain are very intuitive** and we can use classical classifications methods on these representations.\n",
    "\n",
    "VERY IMPORTANT! There is not a general and closed flow in NLP.\n",
    "\n",
    "**All the techniques mentioned on the steps above should be tested in order to decide if it is correct to apply them and if that technique/ method increases the obtained results in terms of accuracy and performance.**"
   ]
  },
  {
   "cell_type": "code",
   "execution_count": null,
   "metadata": {},
   "outputs": [],
   "source": []
  },
  {
   "cell_type": "code",
   "execution_count": null,
   "metadata": {},
   "outputs": [],
   "source": []
  },
  {
   "cell_type": "code",
   "execution_count": null,
   "metadata": {},
   "outputs": [],
   "source": []
  },
  {
   "cell_type": "markdown",
   "metadata": {},
   "source": [
    "# 2.- Neural Networks Based Embeddings.\n",
    "\n",
    "Let us check what happens when the dataset is way larger. For these purpose we are using an Amazon Dataset for Sentiment Analysis already filtered. The dataset consists on 4M of samples."
   ]
  },
  {
   "cell_type": "markdown",
   "metadata": {},
   "source": [
    "## 2.1.- Classical Methods on larger dataset.\n",
    "First, we will apply the methods we have used before on a bigger ds and see what happens."
   ]
  },
  {
   "cell_type": "code",
   "execution_count": 379,
   "metadata": {},
   "outputs": [
    {
     "name": "stdout",
     "output_type": "stream",
     "text": [
      "(60000, 2)\n"
     ]
    },
    {
     "data": {
      "text/html": [
       "<div>\n",
       "<style scoped>\n",
       "    .dataframe tbody tr th:only-of-type {\n",
       "        vertical-align: middle;\n",
       "    }\n",
       "\n",
       "    .dataframe tbody tr th {\n",
       "        vertical-align: top;\n",
       "    }\n",
       "\n",
       "    .dataframe thead th {\n",
       "        text-align: right;\n",
       "    }\n",
       "</style>\n",
       "<table border=\"1\" class=\"dataframe\">\n",
       "  <thead>\n",
       "    <tr style=\"text-align: right;\">\n",
       "      <th></th>\n",
       "      <th>sentences</th>\n",
       "      <th>labels</th>\n",
       "    </tr>\n",
       "  </thead>\n",
       "  <tbody>\n",
       "    <tr>\n",
       "      <th>0</th>\n",
       "      <td>Stuning even for the non-gamer: This sound track was beautiful! It paints the senery in your mind so well I would recomend it even to people who hate vid. game music! I have played the game Chrono Cross but out of all of the games I have ever played it has the best music! It backs away from crude keyboarding and takes a fresher step with grate guitars and soulful orchestras. It would impress anyone who cares to listen! ^_^</td>\n",
       "      <td>1</td>\n",
       "    </tr>\n",
       "    <tr>\n",
       "      <th>1</th>\n",
       "      <td>The best soundtrack ever to anything.: I'm reading a lot of reviews saying that this is the best 'game soundtrack' and I figured that I'd write a review to disagree a bit. This in my opinino is Yasunori Mitsuda's ultimate masterpiece. The music is timeless and I'm been listening to it for years now and its beauty simply refuses to fade.The price tag on this is pretty staggering I must say, but if you are going to buy any cd for this much money, this is the only one that I feel would be worth every penny.</td>\n",
       "      <td>1</td>\n",
       "    </tr>\n",
       "    <tr>\n",
       "      <th>2</th>\n",
       "      <td>Amazing!: This soundtrack is my favorite music of all time, hands down. The intense sadness of \"Prisoners of Fate\" (which means all the more if you've played the game) and the hope in \"A Distant Promise\" and \"Girl who Stole the Star\" have been an important inspiration to me personally throughout my teen years. The higher energy tracks like \"Chrono Cross ~ Time's Scar~\", \"Time of the Dreamwatch\", and \"Chronomantique\" (indefinably remeniscent of Chrono Trigger) are all absolutely superb as well.This soundtrack is amazing music, probably the best of this composer's work (I haven't heard the Xenogears soundtrack, so I can't say for sure), and even if you've never played the game, it would be worth twice the price to buy it.I wish I could give it 6 stars.</td>\n",
       "      <td>1</td>\n",
       "    </tr>\n",
       "    <tr>\n",
       "      <th>3</th>\n",
       "      <td>Excellent Soundtrack: I truly like this soundtrack and I enjoy video game music. I have played this game and most of the music on here I enjoy and it's truly relaxing and peaceful.On disk one. my favorites are Scars Of Time, Between Life and Death, Forest Of Illusion, Fortress of Ancient Dragons, Lost Fragment, and Drowned Valley.Disk Two: The Draggons, Galdorb - Home, Chronomantique, Prisoners of Fate, Gale, and my girlfriend likes ZelbessDisk Three: The best of the three. Garden Of God, Chronopolis, Fates, Jellyfish sea, Burning Orphange, Dragon's Prayer, Tower Of Stars, Dragon God, and Radical Dreamers - Unstealable Jewel.Overall, this is a excellent soundtrack and should be brought by those that like video game music.Xander Cross</td>\n",
       "      <td>1</td>\n",
       "    </tr>\n",
       "    <tr>\n",
       "      <th>4</th>\n",
       "      <td>Remember, Pull Your Jaw Off The Floor After Hearing it: If you've played the game, you know how divine the music is! Every single song tells a story of the game, it's that good! The greatest songs are without a doubt, Chrono Cross: Time's Scar, Magical Dreamers: The Wind, The Stars, and the Sea and Radical Dreamers: Unstolen Jewel. (Translation varies) This music is perfect if you ask me, the best it can be. Yasunori Mitsuda just poured his heart on and wrote it down on paper.</td>\n",
       "      <td>1</td>\n",
       "    </tr>\n",
       "  </tbody>\n",
       "</table>\n",
       "</div>"
      ],
      "text/plain": [
       "                                                                                                                                                                                                                                                                                                                                                                                                                                                                                                                                                                                                                                                                                                                                                                                  sentences  \\\n",
       "0  Stuning even for the non-gamer: This sound track was beautiful! It paints the senery in your mind so well I would recomend it even to people who hate vid. game music! I have played the game Chrono Cross but out of all of the games I have ever played it has the best music! It backs away from crude keyboarding and takes a fresher step with grate guitars and soulful orchestras. It would impress anyone who cares to listen! ^_^                                                                                                                                                                                                                                                                                                                                                 \n",
       "1  The best soundtrack ever to anything.: I'm reading a lot of reviews saying that this is the best 'game soundtrack' and I figured that I'd write a review to disagree a bit. This in my opinino is Yasunori Mitsuda's ultimate masterpiece. The music is timeless and I'm been listening to it for years now and its beauty simply refuses to fade.The price tag on this is pretty staggering I must say, but if you are going to buy any cd for this much money, this is the only one that I feel would be worth every penny.                                                                                                                                                                                                                                                              \n",
       "2  Amazing!: This soundtrack is my favorite music of all time, hands down. The intense sadness of \"Prisoners of Fate\" (which means all the more if you've played the game) and the hope in \"A Distant Promise\" and \"Girl who Stole the Star\" have been an important inspiration to me personally throughout my teen years. The higher energy tracks like \"Chrono Cross ~ Time's Scar~\", \"Time of the Dreamwatch\", and \"Chronomantique\" (indefinably remeniscent of Chrono Trigger) are all absolutely superb as well.This soundtrack is amazing music, probably the best of this composer's work (I haven't heard the Xenogears soundtrack, so I can't say for sure), and even if you've never played the game, it would be worth twice the price to buy it.I wish I could give it 6 stars.   \n",
       "3  Excellent Soundtrack: I truly like this soundtrack and I enjoy video game music. I have played this game and most of the music on here I enjoy and it's truly relaxing and peaceful.On disk one. my favorites are Scars Of Time, Between Life and Death, Forest Of Illusion, Fortress of Ancient Dragons, Lost Fragment, and Drowned Valley.Disk Two: The Draggons, Galdorb - Home, Chronomantique, Prisoners of Fate, Gale, and my girlfriend likes ZelbessDisk Three: The best of the three. Garden Of God, Chronopolis, Fates, Jellyfish sea, Burning Orphange, Dragon's Prayer, Tower Of Stars, Dragon God, and Radical Dreamers - Unstealable Jewel.Overall, this is a excellent soundtrack and should be brought by those that like video game music.Xander Cross                    \n",
       "4  Remember, Pull Your Jaw Off The Floor After Hearing it: If you've played the game, you know how divine the music is! Every single song tells a story of the game, it's that good! The greatest songs are without a doubt, Chrono Cross: Time's Scar, Magical Dreamers: The Wind, The Stars, and the Sea and Radical Dreamers: Unstolen Jewel. (Translation varies) This music is perfect if you ask me, the best it can be. Yasunori Mitsuda just poured his heart on and wrote it down on paper.                                                                                                                                                                                                                                                                                          \n",
       "\n",
       "   labels  \n",
       "0  1       \n",
       "1  1       \n",
       "2  1       \n",
       "3  1       \n",
       "4  1       "
      ]
     },
     "execution_count": 379,
     "metadata": {},
     "output_type": "execute_result"
    }
   ],
   "source": [
    "sents = pd.read_csv('input_data/amaz_df.csv', sep = ';')\n",
    "print(sents.shape)\n",
    "\n",
    "sents.head()"
   ]
  },
  {
   "cell_type": "code",
   "execution_count": 380,
   "metadata": {},
   "outputs": [],
   "source": [
    "train_sentences, test_sentences = sents['sentences'].iloc[:50000], sents['sentences'].iloc[50000:]\n",
    "\n",
    "train_labels, test_labels = sents['labels'].iloc[:50000], sents['labels'].iloc[50000:]"
   ]
  },
  {
   "cell_type": "code",
   "execution_count": 381,
   "metadata": {},
   "outputs": [
    {
     "data": {
      "text/plain": [
       "Text(0.5,1,'Train Labels distribution')"
      ]
     },
     "execution_count": 381,
     "metadata": {},
     "output_type": "execute_result"
    },
    {
     "data": {
      "image/png": "[encoded data removed]",
      "text/plain": [
       "<Figure size 432x288 with 1 Axes>"
      ]
     },
     "metadata": {},
     "output_type": "display_data"
    }
   ],
   "source": [
    "import seaborn as sns\n",
    "import matplotlib.pyplot as plt\n",
    "\n",
    "sns.countplot(train_labels)\n",
    "plt.title('Train Labels distribution')"
   ]
  },
  {
   "cell_type": "code",
   "execution_count": 382,
   "metadata": {},
   "outputs": [
    {
     "data": {
      "text/plain": [
       "Text(0.5,1,'Test Labels distribution')"
      ]
     },
     "execution_count": 382,
     "metadata": {},
     "output_type": "execute_result"
    },
    {
     "data": {
      "image/png": "[encoded data removed]",
      "text/plain": [
       "<Figure size 432x288 with 1 Axes>"
      ]
     },
     "metadata": {},
     "output_type": "display_data"
    }
   ],
   "source": [
    "sns.countplot(test_labels)\n",
    "plt.title('Test Labels distribution')"
   ]
  },
  {
   "cell_type": "code",
   "execution_count": 383,
   "metadata": {},
   "outputs": [
    {
     "name": "stdout",
     "output_type": "stream",
     "text": [
      "Time taken to process: 66 secs\n",
      "Time taken to process: 16 secs\n"
     ]
    }
   ],
   "source": [
    "from sklearn.feature_extraction.text import CountVectorizer\n",
    "vectorizer = CountVectorizer()\n",
    "import nltk\n",
    "from nltk.corpus import stopwords\n",
    "from nltk.stem.porter import PorterStemmer\n",
    "import re\n",
    "\n",
    "sws = [word for word in stopwords.words('english') if 'no' not in  word]\n",
    "ps = PorterStemmer()\n",
    "\n",
    "\n",
    "def fast_pre_process(msgs:list, countVect = vectorizer, sws = sws, corpus = test_sentences.values.tolist() + train_sentences.values.tolist()):\n",
    "    import time\n",
    "    t0 = time.time()\n",
    "    from sklearn.feature_extraction.text import CountVectorizer\n",
    "    vectorizer = CountVectorizer()\n",
    "    vectorizer.fit(corpus)\n",
    "    msgs = list(map(lambda text:re.sub('[^a-zA-Z0-9]+', ' ',text), msgs))\n",
    "    msgs = list(map(lambda x: (x.lower()).split(), msgs))\n",
    "    msgs = list(map(lambda x: [ps.stem(word) for word in x if word not in sws], msgs))\n",
    "    vectorial_rep = vectorizer.transform([' '.join(msg) for msg in msgs]).toarray()\n",
    "    print(f\"Time taken to process: {str(time.time() - t0)[:2]} secs\")\n",
    "    return vectorial_rep\n",
    "\n",
    "x_train, x_test = fast_pre_process(train_sentences),  fast_pre_process(test_sentences)"
   ]
  },
  {
   "cell_type": "markdown",
   "metadata": {},
   "source": [
    "**Very wide Matrix Representations!!**"
   ]
  },
  {
   "cell_type": "code",
   "execution_count": 384,
   "metadata": {},
   "outputs": [
    {
     "data": {
      "text/plain": [
       "((50000, 82643), (10000, 82643))"
      ]
     },
     "execution_count": 384,
     "metadata": {},
     "output_type": "execute_result"
    }
   ],
   "source": [
    "x_train.shape, x_test.shape"
   ]
  },
  {
   "cell_type": "code",
   "execution_count": 121,
   "metadata": {},
   "outputs": [
    {
     "name": "stdout",
     "output_type": "stream",
     "text": [
      "Results for model SVC(C=10, break_ties=False, cache_size=200, class_weight=None, coef0=0.0,\n",
      "    decision_function_shape='ovr', degree=3, gamma='scale', kernel='rbf',\n",
      "    max_iter=-1, probability=False, random_state=42, shrinking=True, tol=0.001,\n",
      "    verbose=False) ---> \n",
      " Accuracy:  83.45% \n",
      " Confusion matrix ---> : \n",
      " [[792 162]\n",
      " [169 877]]\n",
      " \n",
      " Elapsed time 6:04:34\n"
     ]
    }
   ],
   "source": [
    "import time\n",
    "from datetime import timedelta\n",
    "\n",
    "from sklearn import svm\n",
    "\n",
    "from sklearn.metrics import accuracy_score\n",
    "from sklearn.metrics import confusion_matrix\n",
    "\n",
    "import numpy as np\n",
    "\n",
    "t0 = time.time()\n",
    "svm1 = svm.SVC(kernel='rbf', random_state = 42, C = 10)\n",
    "print(f\"Results for model {svm1} ---> \")\n",
    "svm1.fit(x_train[:10000], train_labels[:10000])\n",
    "\n",
    "y_pred = svm1.predict(x_test[:2000])\n",
    "\n",
    "print(f\" Accuracy:  {np.round(accuracy_score(test_labels[:2000], y_pred) * 100, 2)}% \")\n",
    "print(f\" Confusion matrix ---> : \\n {confusion_matrix(test_labels[:2000], y_pred)}\")\n",
    "\n",
    "print(\" \")\n",
    "print(f\" Elapsed time {str(timedelta(seconds = time.time() - t0))[:-7]}\")"
   ]
  },
  {
   "cell_type": "markdown",
   "metadata": {},
   "source": [
    "We have obtained pretty good results but a **very long computation time**, eventhough we are making use of very powerfull machine and despite the fact that we are using just 10K samples! This is because we are working with a **huge matrix as representation of our corpus** so we need a way narrow representation."
   ]
  },
  {
   "cell_type": "markdown",
   "metadata": {},
   "source": [
    "## 2.2.- NN Embeddings (I). WORD2VEC (2013)\n",
    "\n",
    "We will use Gensim API for these first models. We have a multitude of test corpora and pre-trained models available. For example, with the code below we will load a Word2Vec model."
   ]
  },
  {
   "cell_type": "code",
   "execution_count": null,
   "metadata": {},
   "outputs": [],
   "source": [
    "import gensim.downloader\n",
    "import json\n",
    "\n",
    "info = api.info()\n",
    "print(json.dumps(info, indent=4))\n",
    "\n",
    "print(list(gensim.downloader.info()['models'].keys()))\n",
    "corpus = api.load('text8')\n",
    "\n",
    "from gensim.models.word2vec import Word2Vec\n",
    "w2v = Word2Vec(corpus)"
   ]
  },
  {
   "cell_type": "markdown",
   "metadata": {},
   "source": [
    "![title](imgs/API.png)"
   ]
  },
  {
   "cell_type": "markdown",
   "metadata": {},
   "source": [
    "When obtaining Word2Vec embeddings we will have problems with the words the model has not seen during training phase so we will have to handle the Python exceptions while computing the embeedings. The solution for this is:"
   ]
  },
  {
   "cell_type": "markdown",
   "metadata": {},
   "source": [
    "## 2.3.- NN Embeddings (II). FASTTEXT (2016)\n",
    "\n",
    "Model developed by Facebook. By splitting the words in n-grams they proved that they could achieve higher accuracies, faster training times, and also solve the problem of misspelled words and OOV words. \n",
    "\n",
    "We have lots of pretrained models for different languages and we can also train our own model in a very simple way having the chance to choose the output dimension. \n",
    "\n",
    "\n",
    "https://fasttext.cc/docs/en/pretrained-vectors.html"
   ]
  },
  {
   "cell_type": "code",
   "execution_count": 99,
   "metadata": {},
   "outputs": [
    {
     "name": "stderr",
     "output_type": "stream",
     "text": [
      "/opt/xva/devel/ai3/lib/python3.6/site-packages/smart_open/smart_open_lib.py:402: UserWarning: This function is deprecated, use smart_open.open instead. See the migration notes for details: https://github.com/RaRe-Technologies/smart_open/blob/master/README.rst#migrating-to-the-new-open-function\n",
      "  'See the migration notes for details: %s' % _MIGRATION_NOTES_URL\n"
     ]
    },
    {
     "data": {
      "text/plain": [
       "[('dogs', 0.702588677406311),\n",
       " ('catdog', 0.6410545110702515),\n",
       " ('sheepdog', 0.5991747379302979),\n",
       " ('hotdog', 0.5966482758522034),\n",
       " ('sheepdogs', 0.5863701105117798),\n",
       " ('breed', 0.5801578760147095),\n",
       " ('breeds', 0.5729347467422485),\n",
       " ('hound', 0.5553693175315857),\n",
       " ('terrier', 0.5533231496810913),\n",
       " ('coonhound', 0.5505023002624512)]"
      ]
     },
     "execution_count": 99,
     "metadata": {},
     "output_type": "execute_result"
    }
   ],
   "source": [
    "from gensim.models.wrappers import FastText\n",
    "\n",
    "ft_model = FastText.load_fasttext_format('wiki.simple.bin')\n",
    "ft_model.most_similar('dog')"
   ]
  },
  {
   "cell_type": "markdown",
   "metadata": {},
   "source": [
    "(Fasttext can also help us in **typo Fixing**)"
   ]
  },
  {
   "cell_type": "code",
   "execution_count": 402,
   "metadata": {},
   "outputs": [
    {
     "data": {
      "text/plain": [
       "[('constraint', 0.9233893156051636),\n",
       " ('constraints', 0.876246452331543),\n",
       " ('constrained', 0.8298631906509399),\n",
       " ('constriction', 0.6803215742111206),\n",
       " ('constricting', 0.6524155735969543),\n",
       " ('construed', 0.6520252227783203),\n",
       " ('constrictive', 0.6401627063751221),\n",
       " ('constrict', 0.6218506097793579),\n",
       " ('construct', 0.6149622201919556),\n",
       " ('constructs', 0.6026821136474609)]"
      ]
     },
     "execution_count": 402,
     "metadata": {},
     "output_type": "execute_result"
    }
   ],
   "source": [
    "ft_model.most_similar('constrain')"
   ]
  },
  {
   "cell_type": "markdown",
   "metadata": {},
   "source": [
    "![title](imgs/ft1.png)"
   ]
  },
  {
   "cell_type": "markdown",
   "metadata": {},
   "source": [
    "![title](imgs/ft2.png)"
   ]
  },
  {
   "cell_type": "code",
   "execution_count": 393,
   "metadata": {},
   "outputs": [
    {
     "data": {
      "text/plain": [
       "(50000, 10000, 50000, 10000)"
      ]
     },
     "execution_count": 393,
     "metadata": {},
     "output_type": "execute_result"
    }
   ],
   "source": [
    "len(train_sentences), len(test_sentences), len(train_labels), len(test_labels)"
   ]
  },
  {
   "cell_type": "markdown",
   "metadata": {},
   "source": [
    "To obtain the mean of each sample we will calculate an average of the representation vectors for each word, for this reason it might be a good approach to delete the stopwords in order not to add to much noise to the representation."
   ]
  },
  {
   "cell_type": "code",
   "execution_count": 394,
   "metadata": {},
   "outputs": [
    {
     "name": "stdout",
     "output_type": "stream",
     "text": [
      "Time taken to process: 10 secs\n",
      "Time taken to process: 2. secs\n"
     ]
    },
    {
     "data": {
      "text/plain": [
       "(50000, 10000)"
      ]
     },
     "execution_count": 394,
     "metadata": {},
     "output_type": "execute_result"
    }
   ],
   "source": [
    "def fast_pre_process(msgs:list, countVect = vectorizer, sws = sws):\n",
    "    import time\n",
    "    t0 = time.time()\n",
    "    msgs = list(map(lambda text:re.sub('[^a-zA-Z0-9]+', ' ',text), msgs))\n",
    "    msgs = list(map(lambda x: (x.lower()).split(), msgs))\n",
    "    msgs = list(map(lambda x: [word for word in x if word not in sws], msgs))\n",
    "    print(f\"Time taken to process: {str(time.time() - t0)[:2]} secs\")\n",
    "    return msgs\n",
    "\n",
    "\n",
    "processed_train_text, processed_test_text = fast_pre_process(train_sentences), fast_pre_process(test_sentences)\n",
    "len(processed_train_text), len(processed_test_text)\n",
    "\n",
    "# processed_test_text[:5]"
   ]
  },
  {
   "cell_type": "markdown",
   "metadata": {},
   "source": [
    "### 2.3.1.- FastText embeddings computing and modelling"
   ]
  },
  {
   "cell_type": "code",
   "execution_count": 395,
   "metadata": {},
   "outputs": [
    {
     "name": "stderr",
     "output_type": "stream",
     "text": [
      "  0%|          | 0/50000 [00:00<?, ?it/s]"
     ]
    },
    {
     "name": "stdout",
     "output_type": "stream",
     "text": [
      " Computing FastText Embeddings for train set \n"
     ]
    },
    {
     "name": "stderr",
     "output_type": "stream",
     "text": [
      "100%|██████████| 50000/50000 [00:14<00:00, 3393.05it/s]\n",
      "  4%|▍         | 380/10000 [00:00<00:02, 3795.46it/s]"
     ]
    },
    {
     "name": "stdout",
     "output_type": "stream",
     "text": [
      " Computing FastText Embeddings for test set \n"
     ]
    },
    {
     "name": "stderr",
     "output_type": "stream",
     "text": [
      "100%|██████████| 10000/10000 [00:02<00:00, 3629.62it/s]\n"
     ]
    },
    {
     "data": {
      "text/plain": [
       "((50000, 300), (50000, 300))"
      ]
     },
     "execution_count": 395,
     "metadata": {},
     "output_type": "execute_result"
    }
   ],
   "source": [
    "import tqdm as tqdm\n",
    "\n",
    "ft_train_embs, ft_test_embs = list(), list()\n",
    "\n",
    "print(\" Computing FastText Embeddings for train set \")\n",
    "for sent in tqdm.tqdm(processed_train_text):\n",
    "    phrase = list()\n",
    "    for word in sent:\n",
    "        try:\n",
    "            phrase.append(ft_model[word])\n",
    "        except:\n",
    "            pass\n",
    "    ft_train_embs.append(np.mean(phrase, axis = 0))\n",
    "    \n",
    "print(\" Computing FastText Embeddings for test set \")    \n",
    "for sent in tqdm.tqdm(processed_test_text):\n",
    "    phrase = list()\n",
    "    for word in sent:\n",
    "        try:\n",
    "            phrase.append(ft_model[word])\n",
    "        except:\n",
    "            pass\n",
    "    ft_test_embs.append(np.mean(phrase, axis = 0))\n",
    "\n",
    "    \n",
    "ft_train_embs, ft_test_embs = np.array(ft_train_embs), np.array(ft_train_embs)\n",
    "\n",
    "ft_train_embs.shape, ft_test_embs.shape"
   ]
  },
  {
   "cell_type": "markdown",
   "metadata": {},
   "source": [
    "We can observe our representation is way narrower so we will the classification models will run much faster and we will have less RAM comsumption (the original idea was to run this on a Google Colab or on Kaggle notebooks but we ran out of RAM everytime)."
   ]
  },
  {
   "cell_type": "code",
   "execution_count": 450,
   "metadata": {},
   "outputs": [],
   "source": [
    "# ft_train_embs[288].shape, ft_train_embs[288]"
   ]
  },
  {
   "cell_type": "code",
   "execution_count": 124,
   "metadata": {},
   "outputs": [
    {
     "name": "stdout",
     "output_type": "stream",
     "text": [
      "Results for model SVC(C=10, break_ties=False, cache_size=200, class_weight=None, coef0=0.0,\n",
      "    decision_function_shape='ovr', degree=3, gamma='scale', kernel='rbf',\n",
      "    max_iter=-1, probability=False, random_state=42, shrinking=True, tol=0.001,\n",
      "    verbose=False) ---> \n",
      " Accuracy:  89.94% \n",
      " Confusion matrix ---> : \n",
      " [[22128  2366]\n",
      " [ 2663 22843]]\n",
      " \n",
      " Elapsed time 0:45:31\n"
     ]
    }
   ],
   "source": [
    "from sklearn import svm\n",
    "\n",
    "from sklearn.metrics import accuracy_score\n",
    "from sklearn.metrics import confusion_matrix\n",
    "\n",
    "import numpy as np\n",
    "\n",
    "\n",
    "t0 = time.time()\n",
    "svm1 = svm.SVC(kernel='rbf', random_state = 42, C = 10)\n",
    "print(f\"Results for model {svm1} ---> \")\n",
    "svm1.fit(ft_train_embs, train_labels)\n",
    "\n",
    "y_pred = svm1.predict(ft_test_embs)\n",
    "print(f\" Accuracy:  {np.round(accuracy_score(train_labels, y_pred) * 100, 2)}% \")\n",
    "print(f\" Confusion matrix ---> : \\n {confusion_matrix(train_labels, y_pred)}\")\n",
    "\n",
    "print(\" \")\n",
    "\n",
    "print(f\" Elapsed time {str(timedelta(seconds = time.time() - t0))[:-7]}\")"
   ]
  },
  {
   "cell_type": "markdown",
   "metadata": {},
   "source": [
    "### 2.3.2.- FastText embeddings Conclussions.\n",
    "\n",
    "We have seen we have obtained a higher accuracy and also our model runs way faster than using classial embeddings methods. From 6 hours to less than 1, even on a powerfull computer. \n",
    "\n",
    "Even though the results appear to be in the same order of magnitude the model that uses Fasttext should be much better becase it has trained with all the samples so **it will have the ability to generalize much better and related to typos and error it also works way better.**\n",
    "\n",
    "\n",
    "Fasttext is a very good approach for every NLP problem and also because we have lots of pretrained models at our disposal."
   ]
  },
  {
   "cell_type": "markdown",
   "metadata": {},
   "source": [
    "## 2.4.- NN Embeddings (III). ELMo (2018)\n",
    "\n",
    "ELMo is a deep contextualized word representation that models both (1) complex **characteristics of word use** (e.g., **syntax and semantics**), and (2) how these uses vary across linguistic contexts (i.e., to model **polysemy**). These word vectors are learned functions of the internal states of a deep bidirectional language model (biLM), which is pre-trained on a large text corpus. They can be easily added to existing models and significantly improve the state of the art across a broad range of challenging NLP problems, including question answering, textual entailment and sentiment analysis.\n",
    "\n",
    "![title](imgs/elmo1.png)"
   ]
  },
  {
   "cell_type": "markdown",
   "metadata": {},
   "source": [
    "### 2.4.1.- Presenting Elmo Features. What is this \"contextuallity\"?"
   ]
  },
  {
   "cell_type": "code",
   "execution_count": 404,
   "metadata": {},
   "outputs": [],
   "source": [
    "import tensorflow as tf\n",
    "import tensorflow_hub as hub\n",
    "\n",
    "\n",
    "elmo = hub.Module('.../Vectors/Elmo_Vectors', trainable=True)\n",
    "init = tf.initialize_all_variables()\n",
    "sess = tf.Session()\n",
    "sess.run(init)"
   ]
  },
  {
   "cell_type": "markdown",
   "metadata": {},
   "source": [
    "3 frases, 2 contextos"
   ]
  },
  {
   "cell_type": "code",
   "execution_count": 174,
   "metadata": {},
   "outputs": [],
   "source": [
    "elmo_dummy_phrases = ['I took a walk along the bank of the river and then I met his dog', \n",
    "                     'The only reason why I am working harder is to add more zeros in my bank account',\n",
    "                     'The bank has declared bankruptcy in the wake of the pandemic']"
   ]
  },
  {
   "cell_type": "code",
   "execution_count": 408,
   "metadata": {},
   "outputs": [
    {
     "name": "stdout",
     "output_type": "stream",
     "text": [
      "I took a walk along the bank of the river and then I met his dog\n",
      "INFO:tensorflow:Saver not created because there are no variables in the graph to restore\n"
     ]
    },
    {
     "name": "stderr",
     "output_type": "stream",
     "text": [
      "INFO:tensorflow:Saver not created because there are no variables in the graph to restore\n"
     ]
    },
    {
     "name": "stdout",
     "output_type": "stream",
     "text": [
      " \n",
      "The only reason why I am working harder is to add more zeros in my bank account\n",
      "INFO:tensorflow:Saver not created because there are no variables in the graph to restore\n"
     ]
    },
    {
     "name": "stderr",
     "output_type": "stream",
     "text": [
      "INFO:tensorflow:Saver not created because there are no variables in the graph to restore\n"
     ]
    },
    {
     "name": "stdout",
     "output_type": "stream",
     "text": [
      " \n",
      "The bank has declared bankruptcy in the wake of the pandemic\n",
      "INFO:tensorflow:Saver not created because there are no variables in the graph to restore\n"
     ]
    },
    {
     "name": "stderr",
     "output_type": "stream",
     "text": [
      "INFO:tensorflow:Saver not created because there are no variables in the graph to restore\n"
     ]
    },
    {
     "name": "stdout",
     "output_type": "stream",
     "text": [
      " \n",
      " Time took to extract elmo embs ---> 0:00:35\n"
     ]
    }
   ],
   "source": [
    "start = time.time()\n",
    "embs = list()\n",
    "\n",
    "for i in elmo_dummy_phrases:\n",
    "    print(i)\n",
    "    embeddings = elmo([i], signature=\"default\", as_dict=True)[\"elmo\"]\n",
    "    e = sess.run(embeddings)\n",
    "    e = e.reshape(embeddings.shape[1], 1024)\n",
    "    embs.append(e)\n",
    "    print(\" \")\n",
    "\n",
    "elapsed = (time.time() - start)\n",
    "print(f\" Time took to extract elmo embs ---> {str(timedelta(seconds=elapsed))[:-7]}\")"
   ]
  },
  {
   "cell_type": "markdown",
   "metadata": {},
   "source": [
    "Which results in"
   ]
  },
  {
   "cell_type": "code",
   "execution_count": 181,
   "metadata": {},
   "outputs": [
    {
     "data": {
      "text/plain": [
       "((16, 1024), 16, (17, 1024), 17, (11, 1024), 11)"
      ]
     },
     "execution_count": 181,
     "metadata": {},
     "output_type": "execute_result"
    }
   ],
   "source": [
    "embs[0].shape, len(elmo_dummy_phrases[0].split(' ')), embs[1].shape, len(elmo_dummy_phrases[1].split(' ')), embs[2].shape, len(elmo_dummy_phrases[2].split(' '))"
   ]
  },
  {
   "cell_type": "markdown",
   "metadata": {},
   "source": [
    "Metric to use to compare similarity: **Always cosine!!**\n",
    "\n",
    "Euclidean dist depends on the magnitude of its components and also the values for thresholding change with the change of the dimensionality."
   ]
  },
  {
   "cell_type": "code",
   "execution_count": 409,
   "metadata": {},
   "outputs": [
    {
     "name": "stdout",
     "output_type": "stream",
     "text": [
      " Cosine similarity between bank 1 and bank 2 ----> 0.5519409775733948\n",
      " Cosine similarity between bank 1 and bank 3 ----> 0.5211244225502014\n",
      " Cosine similarity between bank 2 and bank 3 ----> 0.6376391649246216\n"
     ]
    }
   ],
   "source": [
    "from numpy import dot\n",
    "from numpy.linalg import norm\n",
    "\n",
    "a, b = embs[0][6], embs[1][15]\n",
    "cos_sim = dot(a, b)/(norm(a)*norm(b))\n",
    "print(f\" Cosine similarity between bank 1 and bank 2 ----> {cos_sim}\")\n",
    "\n",
    "a, b = embs[0][6], embs[2][1]\n",
    "cos_sim = dot(a, b)/(norm(a)*norm(b))\n",
    "print(f\" Cosine similarity between bank 1 and bank 3 ----> {cos_sim}\")\n",
    "\n",
    "a,b = embs[1][15], embs[2][1]\n",
    "cos_sim = dot(a, b)/(norm(a)*norm(b))\n",
    "print(f\" Cosine similarity between bank 2 and bank 3 ----> {cos_sim}\")"
   ]
  },
  {
   "cell_type": "markdown",
   "metadata": {},
   "source": [
    "We can see that the word bank is more similar when it is used on similar contexts."
   ]
  },
  {
   "cell_type": "markdown",
   "metadata": {},
   "source": [
    "Now, we will compare **similarity between phrases** by using the other output of the model."
   ]
  },
  {
   "cell_type": "code",
   "execution_count": 451,
   "metadata": {},
   "outputs": [
    {
     "name": "stdout",
     "output_type": "stream",
     "text": [
      "He showed her a ring with a huge diamond\n",
      "INFO:tensorflow:Saver not created because there are no variables in the graph to restore\n"
     ]
    },
    {
     "name": "stderr",
     "output_type": "stream",
     "text": [
      "INFO:tensorflow:Saver not created because there are no variables in the graph to restore\n"
     ]
    },
    {
     "name": "stdout",
     "output_type": "stream",
     "text": [
      " \n",
      "If you need me to open the fence, just give me a ring\n",
      "INFO:tensorflow:Saver not created because there are no variables in the graph to restore\n"
     ]
    },
    {
     "name": "stderr",
     "output_type": "stream",
     "text": [
      "INFO:tensorflow:Saver not created because there are no variables in the graph to restore\n"
     ]
    },
    {
     "name": "stdout",
     "output_type": "stream",
     "text": [
      " \n",
      "I bought a golden necklace with an inlaid sapphire\n",
      "INFO:tensorflow:Saver not created because there are no variables in the graph to restore\n"
     ]
    },
    {
     "name": "stderr",
     "output_type": "stream",
     "text": [
      "INFO:tensorflow:Saver not created because there are no variables in the graph to restore\n"
     ]
    },
    {
     "name": "stdout",
     "output_type": "stream",
     "text": [
      " \n",
      " Time took to extract elmo embs ---> 0:01:46\n",
      " Cosine similarity between sentence 1 and sentence 2 ----> 0.5777978301048279\n",
      " Cosine similarity between sentence 1 and sentence 3 ----> 0.7033749222755432\n",
      " Cosine similarity between sentence 2 and sentence 3 ----> 0.5167890191078186\n"
     ]
    }
   ],
   "source": [
    "ph = [\"He showed her a ring with a huge diamond\",\n",
    "     \"If you need me to open the fence, just give me a ring\",\n",
    "     \"I bought a golden necklace with an inlaid sapphire\"]\n",
    "\n",
    "start = time.time()\n",
    "embs = list()\n",
    "\n",
    "for i in ph:\n",
    "    print(i)\n",
    "    embeddings = elmo([i], signature=\"default\", as_dict=True)[\"default\"]\n",
    "    e = sess.run(embeddings)\n",
    "    e = e.reshape(1024)\n",
    "    embs.append(e)\n",
    "    print(\" \")\n",
    "\n",
    "elapsed = (time.time() - start)\n",
    "print(f\" Time took to extract elmo embs ---> {str(timedelta(seconds=elapsed))[:-7]}\")\n",
    "\n",
    "\n",
    "a, b = embs[0], embs[1]\n",
    "cos_sim = dot(a, b)/(norm(a)*norm(b))\n",
    "print(f\" Cosine similarity between sentence 1 and sentence 2 ----> {cos_sim}\")\n",
    "\n",
    "a, b = embs[0], embs[2]\n",
    "cos_sim = dot(a, b)/(norm(a)*norm(b))\n",
    "print(f\" Cosine similarity between sentence 1 and sentence 3 ----> {cos_sim}\")\n",
    "\n",
    "a,b = embs[1], embs[2]\n",
    "cos_sim = dot(a, b)/(norm(a)*norm(b))\n",
    "print(f\" Cosine similarity between sentence 2 and sentence 3 ----> {cos_sim}\")"
   ]
  },
  {
   "cell_type": "markdown",
   "metadata": {},
   "source": [
    "**We can observe that although the term \"ring\" is in both 1 and 2 phrases the cosine dist is lower between the sentences related to jewellery.**\n",
    "\n",
    "So, indeed **ELMO IS CONTEXTUAL**.\n",
    "\n",
    "Now, instead of using the vectors to classify we are going to use as first layer of a DNN model. The advantage of this is that **we can set this Elmo Layer to trainable True and the weights of the elmo embedding layer will update** and they will become better representative of our text as they keep training and learning from more texts. We will begin preprocessing the texts to be used for Elmo, note that we neither remove stopwords, nor apply stemming techniques. We just convert to lower case and delete symbols."
   ]
  },
  {
   "cell_type": "markdown",
   "metadata": {},
   "source": [
    "![title](imgs/elmo_params.png)"
   ]
  },
  {
   "cell_type": "markdown",
   "metadata": {},
   "source": [
    "When to use each of those? The original developers of the model recommend us to try with different outputs for every problem."
   ]
  },
  {
   "cell_type": "markdown",
   "metadata": {},
   "source": [
    "## 2.4.2.- Using Elmo for classification."
   ]
  },
  {
   "cell_type": "code",
   "execution_count": 413,
   "metadata": {},
   "outputs": [
    {
     "name": "stdout",
     "output_type": "stream",
     "text": [
      "Time taken to process: 1. secs\n",
      "Time taken to process: 0. secs\n"
     ]
    },
    {
     "data": {
      "text/plain": [
       "(50000, 10000)"
      ]
     },
     "execution_count": 413,
     "metadata": {},
     "output_type": "execute_result"
    }
   ],
   "source": [
    "def fast_pre_process(msgs:list, countVect = vectorizer, sws = sws):\n",
    "    import time\n",
    "    t0 = time.time()\n",
    "    msgs = list(map(lambda text:re.sub('[^a-zA-Z0-9]+', ' ',text), msgs))\n",
    "    msgs = list(map(lambda x: (x.lower()), msgs))\n",
    "    print(f\"Time taken to process: {str(time.time() - t0)[:2]} secs\")\n",
    "    return msgs\n",
    "\n",
    "\n",
    "processed_train_elmo, processed_test_elmo = fast_pre_process(train_sentences), fast_pre_process(test_sentences)\n",
    "len(processed_train_elmo), len(processed_test_elmo)"
   ]
  },
  {
   "cell_type": "code",
   "execution_count": 414,
   "metadata": {},
   "outputs": [],
   "source": [
    "# Create a custom layer that allows us to update weights (lambda layers do not have trainable parameters!)\n",
    "\n",
    "from keras import backend as K\n",
    "import keras.layers as layers\n",
    "from keras.models import Model, load_model\n",
    "from keras.engine import Layer\n",
    "\n",
    "class ElmoEmbeddingLayer(Layer):\n",
    "    def __init__(self, **kwargs):\n",
    "        self.dimensions = 1024\n",
    "        self.trainable=True\n",
    "        \n",
    "        super(ElmoEmbeddingLayer, self).__init__(**kwargs)\n",
    "\n",
    "    def build(self, input_shape):\n",
    "        self.elmo = hub.Module('.../Vectors/Elmo_Vectors',\n",
    "                               trainable=self.trainable,name=\"{}_module\".format(self.name))\n",
    "\n",
    "        self.trainable_weights += K.tf.trainable_variables(scope=\"^{}_module/.*\".format(self.name))\n",
    "        super(ElmoEmbeddingLayer, self).build(input_shape)\n",
    "\n",
    "    def call(self, x, mask=None):\n",
    "        result = self.elmo(K.squeeze(K.cast(x, tf.string), axis=1),\n",
    "                      as_dict=True,\n",
    "                      signature='default',\n",
    "                      )['default']\n",
    "        return result\n",
    "\n",
    "    def compute_mask(self, inputs, mask=None):\n",
    "        return K.not_equal(inputs, '--PAD--')\n",
    "\n",
    "    def compute_output_shape(self, input_shape):\n",
    "        return (input_shape[0], self.dimensions)"
   ]
  },
  {
   "cell_type": "code",
   "execution_count": 415,
   "metadata": {},
   "outputs": [],
   "source": [
    "# Function to build model\n",
    "def build_model(): \n",
    "    input_text = layers.Input(shape=(1,), dtype=\"string\")\n",
    "    embedding = ElmoEmbeddingLayer()(input_text)\n",
    "    dense0 = layers.Dense(256, activation='relu')(embedding)\n",
    "    dense1 = layers.Dense(64, activation='relu')(dense0)\n",
    "    pred = layers.Dense(2, activation='sigmoid')(dense1)\n",
    "\n",
    "    model = Model(inputs=[input_text], outputs=pred)\n",
    "    \n",
    "\n",
    "    model.compile(loss='binary_crossentropy', optimizer='adam', metrics=['categorical_accuracy'])\n",
    "    print(model.summary())\n",
    "\n",
    "    return model#, model_embeddings"
   ]
  },
  {
   "cell_type": "code",
   "execution_count": 204,
   "metadata": {},
   "outputs": [
    {
     "data": {
      "text/plain": [
       "(50000, 10000, 10000, 50000)"
      ]
     },
     "execution_count": 204,
     "metadata": {},
     "output_type": "execute_result"
    }
   ],
   "source": [
    "len(processed_train_elmo), len(processed_test_elmo), len(test_labels), len(train_labels)"
   ]
  },
  {
   "cell_type": "code",
   "execution_count": 419,
   "metadata": {},
   "outputs": [
    {
     "name": "stdout",
     "output_type": "stream",
     "text": [
      "INFO:tensorflow:Saver not created because there are no variables in the graph to restore\n"
     ]
    },
    {
     "name": "stderr",
     "output_type": "stream",
     "text": [
      "INFO:tensorflow:Saver not created because there are no variables in the graph to restore\n"
     ]
    },
    {
     "name": "stdout",
     "output_type": "stream",
     "text": [
      "_________________________________________________________________\n",
      "Layer (type)                 Output Shape              Param #   \n",
      "=================================================================\n",
      "input_15 (InputLayer)        (None, 1)                 0         \n",
      "_________________________________________________________________\n",
      "elmo_embedding_layer_15 (Elm (None, 1024)              4         \n",
      "_________________________________________________________________\n",
      "dense_42 (Dense)             (None, 256)               262400    \n",
      "_________________________________________________________________\n",
      "dense_43 (Dense)             (None, 64)                16448     \n",
      "_________________________________________________________________\n",
      "dense_44 (Dense)             (None, 2)                 130       \n",
      "=================================================================\n",
      "Total params: 278,982\n",
      "Trainable params: 278,982\n",
      "Non-trainable params: 0\n",
      "_________________________________________________________________\n",
      "None\n",
      "Train on 6400 samples, validate on 1600 samples\n",
      "Epoch 1/5\n",
      "6400/6400 [==============================] - 864s 135ms/step - loss: 0.4668 - categorical_accuracy: 0.7858 - val_loss: 0.5224 - val_categorical_accuracy: 0.7412\n",
      "Epoch 2/5\n",
      "6400/6400 [==============================] - 870s 136ms/step - loss: 0.3457 - categorical_accuracy: 0.8516 - val_loss: 0.3886 - val_categorical_accuracy: 0.8331\n",
      "Epoch 3/5\n",
      "6400/6400 [==============================] - 877s 137ms/step - loss: 0.3016 - categorical_accuracy: 0.8770 - val_loss: 0.3683 - val_categorical_accuracy: 0.8400\n",
      "Epoch 4/5\n",
      "6400/6400 [==============================] - 878s 137ms/step - loss: 0.2927 - categorical_accuracy: 0.8819 - val_loss: 0.3741 - val_categorical_accuracy: 0.8281\n",
      "Epoch 5/5\n",
      "6400/6400 [==============================] - 885s 138ms/step - loss: 0.2667 - categorical_accuracy: 0.8928 - val_loss: 0.3676 - val_categorical_accuracy: 0.8444\n"
     ]
    }
   ],
   "source": [
    "# Build and fit\n",
    "\n",
    "from keras.utils import to_categorical\n",
    "model= build_model()\n",
    "history = model.fit(np.array(processed_train_elmo)[:8000], \n",
    "          to_categorical(train_labels.values)[:8000],\n",
    "          validation_split = 0.2,\n",
    "          epochs=5,\n",
    "          batch_size=256)"
   ]
  },
  {
   "cell_type": "code",
   "execution_count": 421,
   "metadata": {},
   "outputs": [
    {
     "name": "stdout",
     "output_type": "stream",
     "text": [
      "100/100 [==============================] - 18s 179ms/step\n",
      "test_accuracy:  0.9\n"
     ]
    }
   ],
   "source": [
    "score = model.evaluate(np.array(processed_test_elmo)[:100], to_categorical(test_labels.values)[:100], batch_size = 32, verbose = 1)\n",
    "print('test_accuracy: ', score[1])"
   ]
  },
  {
   "cell_type": "code",
   "execution_count": 437,
   "metadata": {},
   "outputs": [
    {
     "data": {
      "text/plain": [
       "{'val_loss': [0.5224389028549195,\n",
       "  0.38856935501098633,\n",
       "  0.3682965099811554,\n",
       "  0.3740508794784546,\n",
       "  0.3676344394683838],\n",
       " 'val_categorical_accuracy': [0.74125, 0.833125, 0.84, 0.828125, 0.844375],\n",
       " 'loss': [0.4667584991455078,\n",
       "  0.3456764912605286,\n",
       "  0.30157602548599244,\n",
       "  0.29271159768104554,\n",
       "  0.2666910547018051],\n",
       " 'categorical_accuracy': [0.78578125,\n",
       "  0.8515625,\n",
       "  0.87703125,\n",
       "  0.881875,\n",
       "  0.8928125]}"
      ]
     },
     "execution_count": 437,
     "metadata": {},
     "output_type": "execute_result"
    }
   ],
   "source": [
    "model.history.history"
   ]
  },
  {
   "cell_type": "code",
   "execution_count": 445,
   "metadata": {},
   "outputs": [
    {
     "data": {
      "text/plain": [
       "<matplotlib.legend.Legend at 0x7feb23734278>"
      ]
     },
     "execution_count": 445,
     "metadata": {},
     "output_type": "execute_result"
    },
    {
     "data": {
      "image/png": "[encoded data removed]",
      "text/plain": [
       "<Figure size 432x288 with 1 Axes>"
      ]
     },
     "metadata": {},
     "output_type": "display_data"
    }
   ],
   "source": [
    "plt.plot(history.history['val_loss'])\n",
    "plt.plot(history.history['val_categorical_accuracy'])\n",
    "plt.legend(['validation_loss', 'validation_accuracy'])"
   ]
  },
  {
   "cell_type": "markdown",
   "metadata": {},
   "source": [
    "### 2.4.2.- Beyond Elmo\n",
    "\n",
    "More and more Embeddings models based on Neural Networks are being developed, and some of them outperform Elmo in lots of problems with the cost of complexity and efficiency\n",
    "like BERT and its derivatives, Seq2Seq models or Attention Layers. You have lots of information about them in the most common NLP APIs webpages:\n",
    "Keras, Tensorflow, HuggingFace(https://huggingface.co/)...\n",
    "\n",
    "### 2.4.3.- Four more utilities of WE\n",
    "\n",
    "Since we are working with vectors, we have sometimes unbalanced datasets. We can perform **data augmentation by adding a little gaussian noise based on statistical parameters** to every vector component and use that new data with more samples on the weak categorys.\n",
    "\n",
    "We can also use these **embeddings vectors for posstaging**. We classify some words with the tag we want to find and try to use this semi-supervised techniques to find more terms that may act in the same way.\n",
    "\n",
    "It is possible to build typo fixers and language translators based on WE."
   ]
  },
  {
   "cell_type": "markdown",
   "metadata": {},
   "source": [
    "# 3.- Final Conclussions and takeaways.\n",
    "    \n",
    "<li> We have learnt some of the applications of modern NLP.\n",
    "\n",
    "<li> We have learnt the flow for solving a NLP problem:\n",
    "\n",
    "    1 ) Preprocessing.\n",
    "    2 ) Choose and embeddings model.\n",
    "    3 ) Perform ML models.\n",
    "    4 ) Analyze Metrics.\n",
    "    5 ) Go back to 1) ?.\n",
    "    \n",
    "<li> We have learnt some of the methods available to obtain numerical representations out of text and their preprocessing techniques:\n",
    "    - CountVectorizer and TF - IDF: Lowercasing, stopwords removal, lemmatizing / stemming, etc...\n",
    "    - FastText: Lowercasing, stopwords removal...\n",
    "    - Elmo (Contextual): Just lowercasing.\n",
    "***But the most important rule is to try all of these methods and preprocessing techniques in order to check if the performance improves or not.***\n",
    "\n",
    "<li> FastText is always a good approach due to the existence of pretrained models, the ability of dealing with misspelled words and its efficiency.\n",
    "\n",
    "<li> New models present the astonishing feature of capturing the contextual informations of a sentence.\n",
    "\n",
    "<li> We have learnt we could use more complex models and use NLP for other languages such as spanish, portuguese, french..."
   ]
  }
 ],
 "metadata": {
  "kernelspec": {
   "display_name": "Python 3",
   "language": "python",
   "name": "python3"
  },
  "language_info": {
   "codemirror_mode": {
    "name": "ipython",
    "version": 3
   },
   "file_extension": ".py",
   "mimetype": "text/x-python",
   "name": "python",
   "nbconvert_exporter": "python",
   "pygments_lexer": "ipython3",
   "version": "3.8.5"
  }
 },
 "nbformat": 4,
 "nbformat_minor": 2
}
